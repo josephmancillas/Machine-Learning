{
  "nbformat": 4,
  "nbformat_minor": 0,
  "metadata": {
    "colab": {
      "name": "Copy of CS4347-Assignment5-j_m1083.ipynb",
      "provenance": [],
      "collapsed_sections": []
    },
    "kernelspec": {
      "name": "python3",
      "display_name": "Python 3"
    }
  },
  "cells": [
    {
      "cell_type": "markdown",
      "metadata": {
        "id": "tIm5-VZegmum"
      },
      "source": [
        "# ASSIGNMENT 5 - INTRO TO MACHINE LEARNING | Model Selection, Model Regularization, Decision Tree, Bagging, Random Forest and Boosting\n",
        "\n",
        "\n",
        "> **FULL MARKS = 100**\n",
        "\n"
      ]
    },
    {
      "cell_type": "markdown",
      "metadata": {
        "id": "WfCsFDgxg4OQ"
      },
      "source": [
        "**Note:** To submit the assignment, please follow the same steps and in assignments 1, 2, 3, 4. \n",
        "\n",
        "In this assignment we will cover the following topics:\n",
        "\n",
        "1. **Model Selection | SCORE : 20**\n",
        "  \n",
        "  **1.1 Subset Feature Selection**\n",
        "      \n",
        "    References\n",
        "    > https://archive.ics.uci.edu/ml/datasets/Online+Video+Characteristics+and+Transcoding+Time+Dataset#\n",
        "\n",
        "  **1.2 Forward stepwise feature selection**\n",
        "      \n",
        "    References\n",
        "    > Please follow lecture ntoes\n",
        "\n",
        "2. **Model Regularization | SCORE : 20**\n",
        "  \n",
        "  **2.1 Ridge Regression - L2 Regularization**\n",
        "      \n",
        "    References\n",
        "    > https://scikit-learn.org/stable/modules/generated/sklearn.linear_model.RidgeCV.html\n",
        "\n",
        "  **2.2 Lasso Regression - L1 Regularization**\n",
        "      \n",
        "    References\n",
        "    > https://scikit-learn.org/stable/modules/generated/sklearn.linear_model.LassoCV.html\n",
        "\n",
        "3. **Decision Tree with KFold Cross Validation| SCORE : 30**\n",
        "      \n",
        "    References\n",
        "\n",
        "    > https://scikit-learn.org/stable/modules/generated/sklearn.model_selection.cross_val_score.html\n",
        "\n",
        "    > https://scikit-learn.org/stable/modules/generated/sklearn.tree.DecisionTreeRegressor.html#sklearn.tree.DecisionTreeRegressor\n",
        "      \n",
        "    > https://scikit-learn.org/stable/modules/generated/sklearn.tree.DecisionTreeClassifier.html#sklearn.tree.DecisionTreeClassifier\n",
        "\n",
        "\n",
        "4. **Decision Tree with Bagging | SCORE : 10**\n",
        "\n",
        "    References\n",
        "    > https://scikit-learn.org/stable/modules/generated/sklearn.ensemble.BaggingRegressor.html#sklearn.ensemble.BaggingRegressor\n",
        "\n",
        "    > https://scikit-learn.org/stable/modules/generated/sklearn.ensemble.BaggingClassifier.html#sklearn.ensemble.BaggingClassifier\n",
        "\n",
        "5. **Random Forest | SCORE : 10**\n",
        "      \n",
        "    References\n",
        "    > https://scikit-learn.org/stable/modules/generated/sklearn.ensemble.RandomForestRegressor.html#sklearn.ensemble.RandomForestRegressor\n",
        "\n",
        "    > https://scikit-learn.org/stable/modules/generated/sklearn.ensemble.RandomForestClassifier.html#sklearn.ensemble.RandomForestClassifier\n",
        "\n",
        "6. **Boosting | SCORE : 10**\n",
        "      \n",
        "    References\n",
        "    > https://scikit-learn.org/stable/modules/generated/sklearn.ensemble.GradientBoostingRegressor.html#sklearn.ensemble.GradientBoostingRegressor\n",
        "\n",
        "    > https://scikit-learn.org/stable/modules/generated/sklearn.ensemble.GradientBoostingClassifier.html#sklearn.ensemble.GradientBoostingClassifier"
      ]
    },
    {
      "cell_type": "markdown",
      "metadata": {
        "id": "N4kZT0_vi8Fe"
      },
      "source": [
        "\n",
        "### 1. Model Selection\n",
        "---\n",
        "\n",
        "\n",
        "\n",
        "---"
      ]
    },
    {
      "cell_type": "markdown",
      "metadata": {
        "id": "pY-vVWvwjs9n"
      },
      "source": [
        "***EXERCISE NO. 1.1*** **Score : 10** "
      ]
    },
    {
      "cell_type": "code",
      "metadata": {
        "id": "LojA0NWANf7E",
        "colab": {
          "base_uri": "https://localhost:8080/"
        },
        "outputId": "9f59e02a-6dda-40d0-b5c1-bf61714a61a1"
      },
      "source": [
        "from sklearn.datasets import load_wine\n",
        "import pandas as pd\n",
        "\n",
        "#Load the data\n",
        "wine = load_wine()\n",
        "\n",
        "# Now create a pandas dataframe that uses feature_names as columns and wine data as values\n",
        "dffeature = pd.DataFrame(wine.data, columns=wine.feature_names)\n",
        "print(dffeature.head())\n",
        "# Now create a pandas dataframe that uses wine target as data and ['label'] as column\n",
        "dftarget = pd.DataFrame(wine.target, columns=['label'])\n",
        "print(dftarget.head())\n",
        "# Now replace 0 with 0th value of wine.target_names, 1 with 1st value and so on in dftarget\n",
        "dftarget = dftarget.apply(lambda x:wine.target_names[x])\n",
        "print(dftarget.head())\n",
        "\n",
        "# Now concatenate dffeature and dftarget dataframe column wise and create new dataframe df, here pass sort=False\n",
        "df = pd.concat([dffeature, dftarget], axis=1 ,sort=False)\n",
        "\n",
        "# Print the head of the data\n",
        "print(df.head())\n",
        "\n",
        "# Print the tail of the data\n",
        "print(df.tail())\n",
        " \n",
        "\n",
        "# See if there is na\n",
        "print(df.isna().sum().sum())\n",
        "\n",
        "# If there is na remove them\n",
        "df.dropna(inplace=True)"
      ],
      "execution_count": 1,
      "outputs": [
        {
          "output_type": "stream",
          "text": [
            "   alcohol  malic_acid   ash  ...   hue  od280/od315_of_diluted_wines  proline\n",
            "0    14.23        1.71  2.43  ...  1.04                          3.92   1065.0\n",
            "1    13.20        1.78  2.14  ...  1.05                          3.40   1050.0\n",
            "2    13.16        2.36  2.67  ...  1.03                          3.17   1185.0\n",
            "3    14.37        1.95  2.50  ...  0.86                          3.45   1480.0\n",
            "4    13.24        2.59  2.87  ...  1.04                          2.93    735.0\n",
            "\n",
            "[5 rows x 13 columns]\n",
            "   label\n",
            "0      0\n",
            "1      0\n",
            "2      0\n",
            "3      0\n",
            "4      0\n",
            "     label\n",
            "0  class_0\n",
            "1  class_0\n",
            "2  class_0\n",
            "3  class_0\n",
            "4  class_0\n",
            "   alcohol  malic_acid   ash  ...  od280/od315_of_diluted_wines  proline    label\n",
            "0    14.23        1.71  2.43  ...                          3.92   1065.0  class_0\n",
            "1    13.20        1.78  2.14  ...                          3.40   1050.0  class_0\n",
            "2    13.16        2.36  2.67  ...                          3.17   1185.0  class_0\n",
            "3    14.37        1.95  2.50  ...                          3.45   1480.0  class_0\n",
            "4    13.24        2.59  2.87  ...                          2.93    735.0  class_0\n",
            "\n",
            "[5 rows x 14 columns]\n",
            "     alcohol  malic_acid   ash  ...  od280/od315_of_diluted_wines  proline    label\n",
            "173    13.71        5.65  2.45  ...                          1.74    740.0  class_2\n",
            "174    13.40        3.91  2.48  ...                          1.56    750.0  class_2\n",
            "175    13.27        4.28  2.26  ...                          1.56    835.0  class_2\n",
            "176    13.17        2.59  2.37  ...                          1.62    840.0  class_2\n",
            "177    14.13        4.10  2.74  ...                          1.60    560.0  class_2\n",
            "\n",
            "[5 rows x 14 columns]\n",
            "0\n"
          ],
          "name": "stdout"
        }
      ]
    },
    {
      "cell_type": "code",
      "metadata": {
        "id": "SqADeruGY5By",
        "colab": {
          "base_uri": "https://localhost:8080/"
        },
        "outputId": "614977f4-6d6e-4e3d-9511-f2ad5983c1d4"
      },
      "source": [
        "import pandas as pd\n",
        "import numpy as np\n",
        "import itertools\n",
        "import time\n",
        "import statsmodels.api as sm\n",
        "import matplotlib.pyplot as plt\n",
        "\n",
        "#Get data and labels X and y\n",
        "# X is df dataframe drop 'label' column \n",
        "X = df.drop(columns=['label'])\n",
        "# y is the target of the wine dataset\n",
        "y = wine.target"
      ],
      "execution_count": 2,
      "outputs": [
        {
          "output_type": "stream",
          "text": [
            "/usr/local/lib/python3.7/dist-packages/statsmodels/tools/_testing.py:19: FutureWarning: pandas.util.testing is deprecated. Use the functions in the public API at pandas.testing instead.\n",
            "  import pandas.util.testing as tm\n"
          ],
          "name": "stderr"
        }
      ]
    },
    {
      "cell_type": "code",
      "metadata": {
        "id": "K9szxjCglY4w"
      },
      "source": [
        "# SubSet model selection method have given for you\n",
        "def processSubset(feature_set):\n",
        "    # Fit model on feature_set and calculate RSS\n",
        "    model = sm.OLS(y,X[list(feature_set)])\n",
        "    regr = model.fit()\n",
        "    RSS = ((regr.predict(X[list(feature_set)]) - y) ** 2).sum()\n",
        "    return {\"model\":regr, \"RSS\":RSS}\n"
      ],
      "execution_count": 3,
      "outputs": []
    },
    {
      "cell_type": "code",
      "metadata": {
        "id": "RzwUqP68YWE9"
      },
      "source": [
        "def getBest(k):\n",
        "    \n",
        "    tic = time.time()\n",
        "    \n",
        "    results = []\n",
        "    \n",
        "    for combo in itertools.combinations(X.columns, k):\n",
        "        results.append(processSubset(combo))\n",
        "    \n",
        "    # Wrap everything up in a nice dataframe\n",
        "    models = pd.DataFrame(results)\n",
        "    \n",
        "    # Choose the model with the highest RSS\n",
        "    best_model = models.loc[models['RSS'].idxmin()]\n",
        "    \n",
        "    toc = time.time()\n",
        "    print(\"Processed\", models.shape[0], \"models on\", k, \"predictors in\", (toc-tic), \"seconds.\")\n",
        "    \n",
        "    # Return the best model, along with some other useful information about the model\n",
        "    return best_model"
      ],
      "execution_count": 4,
      "outputs": []
    },
    {
      "cell_type": "code",
      "metadata": {
        "id": "nzCF-B9XYaXc",
        "colab": {
          "base_uri": "https://localhost:8080/"
        },
        "outputId": "b0376912-14c9-4551-9665-f261e4d5ed9e"
      },
      "source": [
        "models_best = pd.DataFrame(columns=[\"RSS\", \"model\"])\n",
        "\n",
        "tic = time.time()\n",
        "\n",
        "#Find the best model in each number of predictors of the wine dataset\n",
        "#Save the best model in models_best.loc[i], i is the number of predictors \n",
        "# Note: Maybe you will need to use a for loop to achieve that\n",
        "\n",
        "for i in range(1,8):\n",
        "  models_best.loc[i] = getBest(i)\n",
        "\n",
        "toc = time.time()\n",
        "print(\"Total elapsed time:\", (toc-tic), \"seconds.\")"
      ],
      "execution_count": 5,
      "outputs": [
        {
          "output_type": "stream",
          "text": [
            "Processed 13 models on 1 predictors in 0.04558753967285156 seconds.\n",
            "Processed 78 models on 2 predictors in 0.25463223457336426 seconds.\n",
            "Processed 286 models on 3 predictors in 0.8327295780181885 seconds.\n",
            "Processed 715 models on 4 predictors in 1.9862463474273682 seconds.\n",
            "Processed 1287 models on 5 predictors in 3.560166597366333 seconds.\n",
            "Processed 1716 models on 6 predictors in 4.79503870010376 seconds.\n",
            "Processed 1716 models on 7 predictors in 4.722203969955444 seconds.\n",
            "Total elapsed time: 16.27859091758728 seconds.\n"
          ],
          "name": "stdout"
        }
      ]
    },
    {
      "cell_type": "code",
      "metadata": {
        "id": "tek0ALqzYifW",
        "colab": {
          "base_uri": "https://localhost:8080/",
          "height": 640
        },
        "outputId": "918ce134-ae77-4d12-c2de-162f33fc63fd"
      },
      "source": [
        "plt.figure(figsize=(20,10))\n",
        "plt.rcParams.update({'font.size': 18, 'lines.markersize': 10})\n",
        "\n",
        "# Set up a 2x2 grid so we can look at 4 plots at once\n",
        "plt.subplot(2, 2, 1)\n",
        "\n",
        "# We will now plot a red dot to indicate the model with the largest adjusted R^2 statistic.\n",
        "# The idxmax() function can be used to identify the location of the maximum point of a vector\n",
        "plt.plot(models_best[\"RSS\"])\n",
        "plt.xlabel('# Predictors')\n",
        "plt.ylabel('RSS')\n",
        "\n",
        "# We will now plot a red dot to indicate the model with the largest adjusted R^2 statistic.\n",
        "# The idxmax() function can be used to identify the location of the maximum point of a vector\n",
        "\n",
        "rsquared_adj = models_best.apply(lambda row: row[1].rsquared_adj, axis=1)\n",
        "\n",
        "plt.subplot(2, 2, 2)\n",
        "plt.plot(rsquared_adj)\n",
        "plt.plot(rsquared_adj.idxmax(), rsquared_adj.max(), \"or\")\n",
        "plt.xlabel('# Predictors')\n",
        "plt.ylabel('adjusted rsquared')\n",
        "\n",
        "# We'll do the same for AIC and BIC, this time looking for the models with the SMALLEST statistic\n",
        "aic = models_best.apply(lambda row: row[1].aic, axis=1)\n",
        "\n",
        "plt.subplot(2, 2, 3)\n",
        "plt.plot(aic)\n",
        "plt.plot(aic.idxmin(), aic.min(), \"or\")\n",
        "plt.xlabel('# Predictors')\n",
        "plt.ylabel('AIC')\n",
        "\n",
        "bic = models_best.apply(lambda row: row[1].bic, axis=1)\n",
        "\n",
        "plt.subplot(2, 2, 4)\n",
        "plt.plot(bic)\n",
        "plt.plot(bic.idxmin(), bic.min(), \"or\")\n",
        "plt.xlabel('# Predictors')\n",
        "plt.ylabel('BIC')"
      ],
      "execution_count": 6,
      "outputs": [
        {
          "output_type": "execute_result",
          "data": {
            "text/plain": [
              "Text(0, 0.5, 'BIC')"
            ]
          },
          "metadata": {
            "tags": []
          },
          "execution_count": 6
        },
        {
          "output_type": "display_data",
          "data": {
            "image/png": "[encoded data removed]",
            "text/plain": [
              "<Figure size 1440x720 with 4 Axes>"
            ]
          },
          "metadata": {
            "tags": [],
            "needs_background": "light"
          }
        }
      ]
    },
    {
      "cell_type": "code",
      "metadata": {
        "id": "etFLp4INqPw8",
        "colab": {
          "base_uri": "https://localhost:8080/",
          "height": 35
        },
        "outputId": "9cf9daeb-2a5d-4bb2-9156-b31965442ce8"
      },
      "source": [
        "#Answer the question: \n",
        "'''\n",
        "1. Based on the plots above, how many predictors will give you the best performer model? \n",
        "'''\n",
        "\n",
        "'''\n",
        "Your answer goes here: Two predictors gives the best performing model \n",
        "\n",
        "\n",
        "'''"
      ],
      "execution_count": 7,
      "outputs": [
        {
          "output_type": "execute_result",
          "data": {
            "application/vnd.google.colaboratory.intrinsic+json": {
              "type": "string"
            },
            "text/plain": [
              "'\\nYour answer goes here:\\n\\n\\n'"
            ]
          },
          "metadata": {
            "tags": []
          },
          "execution_count": 7
        }
      ]
    },
    {
      "cell_type": "markdown",
      "metadata": {
        "id": "pKQICepejtAx"
      },
      "source": [
        "***EXERCISE NO. 1.2*** **Score : 10** "
      ]
    },
    {
      "cell_type": "code",
      "metadata": {
        "id": "SwCCZgDFlZeQ"
      },
      "source": [
        "#Forward selection\n",
        "def forward(predictors):\n",
        "\n",
        "    # Pull out predictors we still need to process\n",
        "    remaining_predictors = [p for p in X.columns if p not in predictors]\n",
        "    \n",
        "    tic = time.time()\n",
        "    \n",
        "    results = []\n",
        "    \n",
        "    for p in remaining_predictors:\n",
        "        results.append(processSubset(predictors+[p]))\n",
        "    \n",
        "    # Wrap everything up in a nice dataframe\n",
        "    models = pd.DataFrame(results)\n",
        "    \n",
        "    # Choose the model with the highest RSS\n",
        "    best_model = models.loc[models['RSS'].idxmin()]\n",
        "    \n",
        "    toc = time.time()\n",
        "    print(\"Processed \", models.shape[0], \"models on\", len(predictors)+1, \"predictors in\", (toc-tic), \"seconds.\")\n",
        "    \n",
        "    # Return the best model, along with some other useful information about the model\n",
        "    return best_model"
      ],
      "execution_count": 8,
      "outputs": []
    },
    {
      "cell_type": "code",
      "metadata": {
        "id": "cdIYO8OSZhwB",
        "colab": {
          "base_uri": "https://localhost:8080/"
        },
        "outputId": "7083ff5f-84f1-42e5-93ff-b3389aff4003"
      },
      "source": [
        "models_fwd = pd.DataFrame(columns=[\"RSS\", \"model\"])\n",
        "\n",
        "tic = time.time()\n",
        "predictors = []\n",
        "\n",
        "#Refer to class example codes\n",
        "#Get all forward selection models\n",
        "#Note: You may need a for loop to achieve that\n",
        "\n",
        "for j in range(1, len(X.columns)+1):\n",
        "  models_fwd.loc[j] = forward(predictors)\n",
        "  predictors = models_fwd.loc[j][\"model\"].model.exog_names\n",
        "\n",
        "toc = time.time()\n",
        "print(\"Total elapsed time:\", (toc-tic), \"seconds.\")"
      ],
      "execution_count": 9,
      "outputs": [
        {
          "output_type": "stream",
          "text": [
            "Processed  13 models on 1 predictors in 0.04555702209472656 seconds.\n",
            "Processed  12 models on 2 predictors in 0.043915748596191406 seconds.\n",
            "Processed  11 models on 3 predictors in 0.03657221794128418 seconds.\n",
            "Processed  10 models on 4 predictors in 0.03502202033996582 seconds.\n",
            "Processed  9 models on 5 predictors in 0.027675390243530273 seconds.\n",
            "Processed  8 models on 6 predictors in 0.04103875160217285 seconds.\n",
            "Processed  7 models on 7 predictors in 0.04849123954772949 seconds.\n",
            "Processed  6 models on 8 predictors in 0.02977442741394043 seconds.\n",
            "Processed  5 models on 9 predictors in 0.023023366928100586 seconds.\n",
            "Processed  4 models on 10 predictors in 0.014172077178955078 seconds.\n",
            "Processed  3 models on 11 predictors in 0.010282754898071289 seconds.\n",
            "Processed  2 models on 12 predictors in 0.009490489959716797 seconds.\n",
            "Processed  1 models on 13 predictors in 0.007027864456176758 seconds.\n",
            "Total elapsed time: 0.4503462314605713 seconds.\n"
          ],
          "name": "stdout"
        }
      ]
    },
    {
      "cell_type": "code",
      "metadata": {
        "id": "4k7RhPwNZjfV",
        "colab": {
          "base_uri": "https://localhost:8080/",
          "height": 868
        },
        "outputId": "27c910f6-2557-4d19-b70b-e749028bd920"
      },
      "source": [
        "# print the best number of predictors you find in subset model selection\n",
        "# print the same number of predictors you find in forward model selection\n",
        "\n",
        "\n",
        "print(models_best.loc[2, \"model\"].summary())\n",
        "print(models_fwd.loc[1, \"model\"].summary())\n",
        "\n",
        "#Answer the question:\n",
        "\n",
        "'''\n",
        "Are these models' features identical?\n",
        "\n",
        "''' \n",
        "\n",
        "'''\n",
        "Your answer goes here: \n",
        "\n",
        "Theyre similar in performance with the number of predictors one higher \n",
        "\n",
        "'''"
      ],
      "execution_count": 40,
      "outputs": [
        {
          "output_type": "stream",
          "text": [
            "                                 OLS Regression Results                                \n",
            "=======================================================================================\n",
            "Dep. Variable:                      y   R-squared (uncentered):                   0.896\n",
            "Model:                            OLS   Adj. R-squared (uncentered):              0.895\n",
            "Method:                 Least Squares   F-statistic:                              758.6\n",
            "Date:                Fri, 26 Mar 2021   Prob (F-statistic):                    3.02e-87\n",
            "Time:                        01:57:15   Log-Likelihood:                         -85.832\n",
            "No. Observations:                 178   AIC:                                      175.7\n",
            "Df Residuals:                     176   BIC:                                      182.0\n",
            "Df Model:                           2                                                  \n",
            "Covariance Type:            nonrobust                                                  \n",
            "=====================================================================================\n",
            "                        coef    std err          t      P>|t|      [0.025      0.975]\n",
            "-------------------------------------------------------------------------------------\n",
            "alcalinity_of_ash     0.0996      0.003     34.145      0.000       0.094       0.105\n",
            "flavanoids           -0.5031      0.026    -19.724      0.000      -0.553      -0.453\n",
            "==============================================================================\n",
            "Omnibus:                        0.474   Durbin-Watson:                   1.270\n",
            "Prob(Omnibus):                  0.789   Jarque-Bera (JB):                0.619\n",
            "Skew:                          -0.075   Prob(JB):                        0.734\n",
            "Kurtosis:                       2.753   Cond. No.                         17.2\n",
            "==============================================================================\n",
            "\n",
            "Warnings:\n",
            "[1] Standard Errors assume that the covariance matrix of the errors is correctly specified.\n",
            "                                 OLS Regression Results                                \n",
            "=======================================================================================\n",
            "Dep. Variable:                      y   R-squared (uncentered):                   0.691\n",
            "Model:                            OLS   Adj. R-squared (uncentered):              0.689\n",
            "Method:                 Least Squares   F-statistic:                              395.0\n",
            "Date:                Fri, 26 Mar 2021   Prob (F-statistic):                    5.97e-47\n",
            "Time:                        01:57:15   Log-Likelihood:                         -182.92\n",
            "No. Observations:                 178   AIC:                                      367.8\n",
            "Df Residuals:                     177   BIC:                                      371.0\n",
            "Df Model:                           1                                                  \n",
            "Covariance Type:            nonrobust                                                  \n",
            "========================================================================================\n",
            "                           coef    std err          t      P>|t|      [0.025      0.975]\n",
            "----------------------------------------------------------------------------------------\n",
            "nonflavanoid_phenols     2.6405      0.133     19.873      0.000       2.378       2.903\n",
            "==============================================================================\n",
            "Omnibus:                       23.244   Durbin-Watson:                   0.297\n",
            "Prob(Omnibus):                  0.000   Jarque-Bera (JB):                7.975\n",
            "Skew:                           0.228   Prob(JB):                       0.0185\n",
            "Kurtosis:                       2.069   Cond. No.                         1.00\n",
            "==============================================================================\n",
            "\n",
            "Warnings:\n",
            "[1] Standard Errors assume that the covariance matrix of the errors is correctly specified.\n"
          ],
          "name": "stdout"
        },
        {
          "output_type": "execute_result",
          "data": {
            "application/vnd.google.colaboratory.intrinsic+json": {
              "type": "string"
            },
            "text/plain": [
              "'\\nYour answer goes here: \\n\\nYes\\n\\n'"
            ]
          },
          "metadata": {
            "tags": []
          },
          "execution_count": 40
        }
      ]
    },
    {
      "cell_type": "markdown",
      "metadata": {
        "id": "F84dkDe5i8Yd"
      },
      "source": [
        "### 2. Model Regularization \n",
        "---\n",
        "\n",
        "\n",
        "\n",
        "---"
      ]
    },
    {
      "cell_type": "markdown",
      "metadata": {
        "id": "bg_fJcRai8h1"
      },
      "source": [
        "***EXERCISE NO. 2.1*** **Score : 10** "
      ]
    },
    {
      "cell_type": "code",
      "metadata": {
        "id": "2SlFcaVllmLA",
        "colab": {
          "base_uri": "https://localhost:8080/"
        },
        "outputId": "ae6fb33c-fe0d-4d90-dbaa-392c04de1b9d"
      },
      "source": [
        "#Ridge regression  \n",
        "#We use the wine data to predict a wine's class \n",
        "from sklearn.preprocessing import scale \n",
        "from sklearn.model_selection import train_test_split\n",
        "from sklearn.linear_model import Ridge, Lasso, RidgeCV, LassoCV\n",
        "from sklearn.metrics import mean_squared_error\n",
        "\n",
        "#print df head\n",
        "print(df.head())\n",
        "\n",
        "#Get data and labels X and y\n",
        "# X is df dataframe drop 'label' column, axis=1\n",
        "X = df.drop(columns='label', axis=1)\n",
        "# y is the target of the wine dataset\n",
        "y = wine.target"
      ],
      "execution_count": 11,
      "outputs": [
        {
          "output_type": "stream",
          "text": [
            "   alcohol  malic_acid   ash  ...  od280/od315_of_diluted_wines  proline    label\n",
            "0    14.23        1.71  2.43  ...                          3.92   1065.0  class_0\n",
            "1    13.20        1.78  2.14  ...                          3.40   1050.0  class_0\n",
            "2    13.16        2.36  2.67  ...                          3.17   1185.0  class_0\n",
            "3    14.37        1.95  2.50  ...                          3.45   1480.0  class_0\n",
            "4    13.24        2.59  2.87  ...                          2.93    735.0  class_0\n",
            "\n",
            "[5 rows x 14 columns]\n"
          ],
          "name": "stdout"
        }
      ]
    },
    {
      "cell_type": "code",
      "metadata": {
        "id": "Hh0cVMbAUlVO",
        "colab": {
          "base_uri": "https://localhost:8080/"
        },
        "outputId": "494985c0-4538-4538-91b1-f1dce2147277"
      },
      "source": [
        "# generate an array of alpha values ranging from very big to very small\n",
        "# NOTE: here alpha means the lambda mentioned in class\n",
        "# Associated with each alpha value is a vector of ridge regression coefficients, which we'll\n",
        "# store in a matrix coefs. In this case, it is a 100 * 13\n",
        "# matrix, with 13 cols (one for each predictor) and 100\n",
        "# rows (one for each value of alpha).\n",
        "\n",
        "alphas = 10**np.linspace(10,-2,100)*0.5\n",
        "ridge = Ridge(normalize = True)\n",
        "coefs = []\n",
        "\n",
        "for a in alphas:\n",
        "    ridge.set_params(alpha = a)\n",
        "    ridge.fit(X, y)\n",
        "    coefs.append(ridge.coef_)\n",
        "    \n",
        "np.shape(coefs)  "
      ],
      "execution_count": 12,
      "outputs": [
        {
          "output_type": "execute_result",
          "data": {
            "text/plain": [
              "(100, 13)"
            ]
          },
          "metadata": {
            "tags": []
          },
          "execution_count": 12
        }
      ]
    },
    {
      "cell_type": "code",
      "metadata": {
        "id": "Bh92HasdVc2K"
      },
      "source": [
        "# Split data into training and test sets \n",
        "X_train, X_test , y_train, y_test = train_test_split(X, y, test_size=0.5, random_state=0)"
      ],
      "execution_count": 13,
      "outputs": []
    },
    {
      "cell_type": "code",
      "metadata": {
        "id": "GxsS87KdVlOr",
        "colab": {
          "base_uri": "https://localhost:8080/"
        },
        "outputId": "a7d2e28d-f814-454f-be4a-09c2f895ed03"
      },
      "source": [
        "# We fit a ridge regression model on the training set, and evaluate\n",
        "# its MSE on the test set, pass alpha = 4, normalize = True to Ridge():\n",
        "ridge2 = Ridge(alpha=4, normalize=True)\n",
        "ridge2.fit(X_train, y_train)             # Fit a ridge regression on the training data\n",
        "pred2 = ridge2.predict(X_test)           # Use this model to predict the test data\n",
        "print(pd.Series(ridge2.coef_, index = X.columns)) # Print coefficients\n",
        "mse = mean_squared_error(y_test, pred2)          # Calculate the test MSE\n",
        "print(\"Test mean squared error (MSE): {:.2f}\".format(mse))"
      ],
      "execution_count": 14,
      "outputs": [
        {
          "output_type": "stream",
          "text": [
            "alcohol                        -0.040578\n",
            "malic_acid                      0.038192\n",
            "ash                            -0.026995\n",
            "alcalinity_of_ash               0.014080\n",
            "magnesium                      -0.000702\n",
            "total_phenols                  -0.107779\n",
            "flavanoids                     -0.085737\n",
            "nonflavanoid_phenols            0.308744\n",
            "proanthocyanins                -0.088442\n",
            "color_intensity                 0.011403\n",
            "hue                            -0.252242\n",
            "od280/od315_of_diluted_wines   -0.110255\n",
            "proline                        -0.000210\n",
            "dtype: float64\n",
            "Test mean squared error (MSE): 0.20\n"
          ],
          "name": "stdout"
        }
      ]
    },
    {
      "cell_type": "code",
      "metadata": {
        "id": "CwFviD1fVlR8",
        "colab": {
          "base_uri": "https://localhost:8080/"
        },
        "outputId": "47b5fad1-c6a1-4559-c017-fa3b38af69fc"
      },
      "source": [
        "#Pass alpha = 10**10 to Ridge() and do the similar process like the previous cell\n",
        "ridge3 = Ridge(alpha = 10**10, normalize=True)\n",
        "ridge3.fit(X_train, y_train)\n",
        "pred3 = ridge3.predict(X_test)\n",
        "mse = mean_squared_error(y_test, pred3)\n",
        "print(\"Test mean squared error (MSE): {:.2f}\".format(mse))"
      ],
      "execution_count": 15,
      "outputs": [
        {
          "output_type": "stream",
          "text": [
            "Test mean squared error (MSE): 0.56\n"
          ],
          "name": "stdout"
        }
      ]
    },
    {
      "cell_type": "code",
      "metadata": {
        "id": "2COTJJZoV_lh",
        "colab": {
          "base_uri": "https://localhost:8080/"
        },
        "outputId": "07c111f4-ee89-4f25-c460-00083b83d6a4"
      },
      "source": [
        "#Pass alpha = 0 to Ridge() and do the similar process like the previous cell\n",
        "ridge4 = Ridge(alpha=0, normalize=True)\n",
        "ridge4.fit(X_train, y_train)\n",
        "pred4 = ridge4.predict(X_test)\n",
        "mse = mean_squared_error(y_test, pred4)\n",
        "print(\"Test mean squared error (MSE): {:.2f}\".format(mse))"
      ],
      "execution_count": 16,
      "outputs": [
        {
          "output_type": "stream",
          "text": [
            "Test mean squared error (MSE): 0.10\n"
          ],
          "name": "stdout"
        }
      ]
    },
    {
      "cell_type": "code",
      "metadata": {
        "id": "U9SDa5fO3Edb",
        "colab": {
          "base_uri": "https://localhost:8080/",
          "height": 35
        },
        "outputId": "b5bd296e-adf0-4d96-e019-d8d9d78a9207"
      },
      "source": [
        "# Study the code above and answer the question: \n",
        "'''\n",
        "1. Why when passing alpha = 10**10, the coefficients become very small? \n",
        "2. Does alpha = 4 improve the MSE comparing to regular least squares?\n",
        "'''\n",
        "\n",
        "'''\n",
        "Your answer goes here: \n",
        "1. It increases variance within the model\n",
        "2. Yes\n",
        "\n",
        "\n",
        "'''"
      ],
      "execution_count": 17,
      "outputs": [
        {
          "output_type": "execute_result",
          "data": {
            "application/vnd.google.colaboratory.intrinsic+json": {
              "type": "string"
            },
            "text/plain": [
              "'\\nYour answer goes here: \\n\\n\\n'"
            ]
          },
          "metadata": {
            "tags": []
          },
          "execution_count": 17
        }
      ]
    },
    {
      "cell_type": "code",
      "metadata": {
        "id": "_ZrcA4K14mZQ",
        "colab": {
          "base_uri": "https://localhost:8080/"
        },
        "outputId": "c00461af-60b7-49c0-c376-4697f868db08"
      },
      "source": [
        "#Use RidgeCV to find the best alpha\n",
        "\n",
        "ridgecv = RidgeCV(alphas = alphas, scoring = 'neg_mean_squared_error', normalize = True)\n",
        "ridgecv.fit(X_train, y_train)\n",
        "print(\"Best alpha: {:.2f}\".format(ridgecv.alpha_))"
      ],
      "execution_count": 18,
      "outputs": [
        {
          "output_type": "stream",
          "text": [
            "Best alpha: 0.01\n"
          ],
          "name": "stdout"
        }
      ]
    },
    {
      "cell_type": "code",
      "metadata": {
        "id": "0jS2w_yV4mln",
        "colab": {
          "base_uri": "https://localhost:8080/"
        },
        "outputId": "a459152a-c531-4c3e-bf50-2676f81b1b97"
      },
      "source": [
        "#Calculate MSE(mean squared error) based on the best alpha found by RidgeCV \n",
        "ridge5 = Ridge(alpha = ridgecv.alpha_, normalize = True)\n",
        "ridge5.fit(X_train, y_train)\n",
        "mse = mean_squared_error(y_test, ridge5.predict(X_test))\n",
        "print(\"Test mean squared error (MSE): {:.2f}\".format(mse))"
      ],
      "execution_count": 19,
      "outputs": [
        {
          "output_type": "stream",
          "text": [
            "Test mean squared error (MSE): 0.10\n"
          ],
          "name": "stdout"
        }
      ]
    },
    {
      "cell_type": "markdown",
      "metadata": {
        "id": "PXB_2z4tj1Qs"
      },
      "source": [
        "***EXERCISE NO. 2.2*** **Score : 10** "
      ]
    },
    {
      "cell_type": "code",
      "metadata": {
        "id": "Cjr1RAI3lmvH"
      },
      "source": [
        "#Lasso regression\n",
        "lasso = Lasso(max_iter = 10000, normalize = True)\n",
        "coefs = []\n",
        "\n",
        "for a in alphas:\n",
        "    lasso.set_params(alpha=a)\n",
        "    lasso.fit(scale(X_train), y_train)\n",
        "    coefs.append(lasso.coef_)"
      ],
      "execution_count": 20,
      "outputs": []
    },
    {
      "cell_type": "code",
      "metadata": {
        "id": "GdkICLDJXae9",
        "colab": {
          "base_uri": "https://localhost:8080/"
        },
        "outputId": "9e28e9b9-03f5-4915-901b-a888df6f3819"
      },
      "source": [
        "# Study the RidgeCV process and use LassoCV to find the Best alpha of Lasso regression and its correspond MSE\n",
        "# Refer to class example codes\n",
        "lassocv = LassoCV(alphas = None, cv = 10, max_iter=100000, normalize = True)\n",
        "lassocv.fit(X_train, y_train)\n",
        "print(\"Best alpha: {:.2f}\".format(lassocv.alpha_))\n",
        "\n",
        "lasso.set_params(alpha=lassocv.alpha_)\n",
        "lasso.fit(X_train, y_train)\n",
        "mse = mean_squared_error(y_test, lasso.predict(X_test))\n",
        "print(\"Test mean squared error (MSE): {:.2f}\".format(mse))"
      ],
      "execution_count": 21,
      "outputs": [
        {
          "output_type": "stream",
          "text": [
            "Best alpha: 0.00\n",
            "Test mean squared error (MSE): 0.10\n"
          ],
          "name": "stdout"
        }
      ]
    },
    {
      "cell_type": "code",
      "metadata": {
        "id": "dMR-VrLnXd6r",
        "colab": {
          "base_uri": "https://localhost:8080/"
        },
        "outputId": "f01414b4-a054-482d-e720-e710d83a8d03"
      },
      "source": [
        "#print out lasso coefficient numbers\n",
        "pd.Series(lasso.coef_, index=X.columns)"
      ],
      "execution_count": 22,
      "outputs": [
        {
          "output_type": "execute_result",
          "data": {
            "text/plain": [
              "alcohol                        -0.084424\n",
              "malic_acid                      0.028204\n",
              "ash                            -0.069616\n",
              "alcalinity_of_ash               0.012124\n",
              "magnesium                      -0.002296\n",
              "total_phenols                   0.264829\n",
              "flavanoids                     -0.472900\n",
              "nonflavanoid_phenols           -0.405353\n",
              "proanthocyanins                 0.091539\n",
              "color_intensity                 0.056779\n",
              "hue                            -0.204164\n",
              "od280/od315_of_diluted_wines   -0.356420\n",
              "proline                        -0.000839\n",
              "dtype: float64"
            ]
          },
          "metadata": {
            "tags": []
          },
          "execution_count": 22
        }
      ]
    },
    {
      "cell_type": "code",
      "metadata": {
        "id": "lBpL1SIW_-kZ",
        "colab": {
          "base_uri": "https://localhost:8080/",
          "height": 35
        },
        "outputId": "9b899e9c-a100-438b-ff7c-0321d45f26ee"
      },
      "source": [
        "# Answer the question: \n",
        "'''\n",
        "1. Observe the lasso.coef and ridge.coef, what do you find? \n",
        "'''\n",
        "\n",
        "\n",
        "'''\n",
        "Your answer goes here: \n",
        "od280/od315_of_diluted_wines was much smaller in lasso.coef compared to ridge.coef\n",
        "\n",
        "\n",
        "'''"
      ],
      "execution_count": 23,
      "outputs": [
        {
          "output_type": "execute_result",
          "data": {
            "application/vnd.google.colaboratory.intrinsic+json": {
              "type": "string"
            },
            "text/plain": [
              "'\\nYour answer goes here: \\n\\n\\n'"
            ]
          },
          "metadata": {
            "tags": []
          },
          "execution_count": 23
        }
      ]
    },
    {
      "cell_type": "markdown",
      "metadata": {
        "id": "CZjog3PvY1BN"
      },
      "source": [
        "### 3. Decision Tree with KFord Cross Validation \n",
        "---\n",
        "\n",
        "\n",
        "\n",
        "---"
      ]
    },
    {
      "cell_type": "markdown",
      "metadata": {
        "id": "ANfJocoCozhg"
      },
      "source": [
        "***EXERCISE NO. 3.1 | Score :30***"
      ]
    },
    {
      "cell_type": "code",
      "metadata": {
        "id": "JaGOrF2UbRZ7",
        "colab": {
          "base_uri": "https://localhost:8080/"
        },
        "outputId": "f2a00cbc-feb1-4c8d-ca78-53a3eae64512"
      },
      "source": [
        "# Required Dataset\n",
        "\n",
        "from sklearn.datasets import load_diabetes\n",
        "\n",
        "# In the following exercises you will use the diabetes datasets for regression problems.\n",
        "# Use your experience from previous exercises on how to use sklearn model, load data and do visualization.\n",
        "# Please try to research about the datasets diabetes dataset\n",
        "\n",
        "#Load necessary libraries for you \n",
        "from sklearn import preprocessing\n",
        "from sklearn.model_selection import train_test_split\n",
        "import numpy as np\n",
        "\n",
        "#Load the diabetes dataset\n",
        "diabetes = load_diabetes()\n",
        "#split the dataset with test_size = 0.20\n",
        "regXtrain, regXtest, regYtrain, regYtest = train_test_split(diabetes.data, diabetes.target, test_size = 0.20)\n",
        "\n",
        "print(f\"Regression data : diabetes data\")\n",
        "print(f\"xtrainShape : {regXtrain.shape}, ytrainShape : {regYtrain.shape}, xtestShape : {regXtest.shape}, ytestShape : {regYtest.shape}\")\n"
      ],
      "execution_count": 24,
      "outputs": [
        {
          "output_type": "stream",
          "text": [
            "Regression data : diabetes data\n",
            "xtrainShape : (353, 10), ytrainShape : (353,), xtestShape : (89, 10), ytestShape : (89,)\n"
          ],
          "name": "stdout"
        }
      ]
    },
    {
      "cell_type": "code",
      "metadata": {
        "id": "Ci3QlMaiG1yA",
        "colab": {
          "base_uri": "https://localhost:8080/"
        },
        "outputId": "e9b7b35b-7d50-4f76-e12b-182542ec3444"
      },
      "source": [
        "#You may print necessary dataset information to help you better understand this dataset \n",
        "print(diabetes.DESCR)\n",
        "\n",
        "print(diabetes.feature_names)\n",
        "\n",
        "print(diabetes.target)\n"
      ],
      "execution_count": 25,
      "outputs": [
        {
          "output_type": "stream",
          "text": [
            ".. _diabetes_dataset:\n",
            "\n",
            "Diabetes dataset\n",
            "----------------\n",
            "\n",
            "Ten baseline variables, age, sex, body mass index, average blood\n",
            "pressure, and six blood serum measurements were obtained for each of n =\n",
            "442 diabetes patients, as well as the response of interest, a\n",
            "quantitative measure of disease progression one year after baseline.\n",
            "\n",
            "**Data Set Characteristics:**\n",
            "\n",
            "  :Number of Instances: 442\n",
            "\n",
            "  :Number of Attributes: First 10 columns are numeric predictive values\n",
            "\n",
            "  :Target: Column 11 is a quantitative measure of disease progression one year after baseline\n",
            "\n",
            "  :Attribute Information:\n",
            "      - Age\n",
            "      - Sex\n",
            "      - Body mass index\n",
            "      - Average blood pressure\n",
            "      - S1\n",
            "      - S2\n",
            "      - S3\n",
            "      - S4\n",
            "      - S5\n",
            "      - S6\n",
            "\n",
            "Note: Each of these 10 feature variables have been mean centered and scaled by the standard deviation times `n_samples` (i.e. the sum of squares of each column totals 1).\n",
            "\n",
            "Source URL:\n",
            "https://www4.stat.ncsu.edu/~boos/var.select/diabetes.html\n",
            "\n",
            "For more information see:\n",
            "Bradley Efron, Trevor Hastie, Iain Johnstone and Robert Tibshirani (2004) \"Least Angle Regression,\" Annals of Statistics (with discussion), 407-499.\n",
            "(https://web.stanford.edu/~hastie/Papers/LARS/LeastAngle_2002.pdf)\n",
            "['age', 'sex', 'bmi', 'bp', 's1', 's2', 's3', 's4', 's5', 's6']\n",
            "[151.  75. 141. 206. 135.  97. 138.  63. 110. 310. 101.  69. 179. 185.\n",
            " 118. 171. 166. 144.  97. 168.  68.  49.  68. 245. 184. 202. 137.  85.\n",
            " 131. 283. 129.  59. 341.  87.  65. 102. 265. 276. 252.  90. 100.  55.\n",
            "  61.  92. 259.  53. 190. 142.  75. 142. 155. 225.  59. 104. 182. 128.\n",
            "  52.  37. 170. 170.  61. 144.  52. 128.  71. 163. 150.  97. 160. 178.\n",
            "  48. 270. 202. 111.  85.  42. 170. 200. 252. 113. 143.  51.  52. 210.\n",
            "  65. 141.  55. 134.  42. 111.  98. 164.  48.  96.  90. 162. 150. 279.\n",
            "  92.  83. 128. 102. 302. 198.  95.  53. 134. 144. 232.  81. 104.  59.\n",
            " 246. 297. 258. 229. 275. 281. 179. 200. 200. 173. 180.  84. 121. 161.\n",
            "  99. 109. 115. 268. 274. 158. 107.  83. 103. 272.  85. 280. 336. 281.\n",
            " 118. 317. 235.  60. 174. 259. 178. 128.  96. 126. 288.  88. 292.  71.\n",
            " 197. 186.  25.  84.  96. 195.  53. 217. 172. 131. 214.  59.  70. 220.\n",
            " 268. 152.  47.  74. 295. 101. 151. 127. 237. 225.  81. 151. 107.  64.\n",
            " 138. 185. 265. 101. 137. 143. 141.  79. 292. 178.  91. 116.  86. 122.\n",
            "  72. 129. 142.  90. 158.  39. 196. 222. 277.  99. 196. 202. 155.  77.\n",
            " 191.  70.  73.  49.  65. 263. 248. 296. 214. 185.  78.  93. 252. 150.\n",
            "  77. 208.  77. 108. 160.  53. 220. 154. 259.  90. 246. 124.  67.  72.\n",
            " 257. 262. 275. 177.  71.  47. 187. 125.  78.  51. 258. 215. 303. 243.\n",
            "  91. 150. 310. 153. 346.  63.  89.  50.  39. 103. 308. 116. 145.  74.\n",
            "  45. 115. 264.  87. 202. 127. 182. 241.  66.  94. 283.  64. 102. 200.\n",
            " 265.  94. 230. 181. 156. 233.  60. 219.  80.  68. 332. 248.  84. 200.\n",
            "  55.  85.  89.  31. 129.  83. 275.  65. 198. 236. 253. 124.  44. 172.\n",
            " 114. 142. 109. 180. 144. 163. 147.  97. 220. 190. 109. 191. 122. 230.\n",
            " 242. 248. 249. 192. 131. 237.  78. 135. 244. 199. 270. 164.  72.  96.\n",
            " 306.  91. 214.  95. 216. 263. 178. 113. 200. 139. 139.  88. 148.  88.\n",
            " 243.  71.  77. 109. 272.  60.  54. 221.  90. 311. 281. 182. 321.  58.\n",
            " 262. 206. 233. 242. 123. 167.  63. 197.  71. 168. 140. 217. 121. 235.\n",
            " 245.  40.  52. 104. 132.  88.  69. 219.  72. 201. 110.  51. 277.  63.\n",
            " 118.  69. 273. 258.  43. 198. 242. 232. 175.  93. 168. 275. 293. 281.\n",
            "  72. 140. 189. 181. 209. 136. 261. 113. 131. 174. 257.  55.  84.  42.\n",
            " 146. 212. 233.  91. 111. 152. 120.  67. 310.  94. 183.  66. 173.  72.\n",
            "  49.  64.  48. 178. 104. 132. 220.  57.]\n"
          ],
          "name": "stdout"
        }
      ]
    },
    {
      "cell_type": "code",
      "metadata": {
        "id": "hENPT2I6o6gj",
        "colab": {
          "base_uri": "https://localhost:8080/"
        },
        "outputId": "57a9d74c-cbac-4a7d-ebc1-b3360783ee8d"
      },
      "source": [
        "# Use the bosting diabetes dataset to achieve the following tasks\n",
        "# An example link\n",
        "# https://scikit-learn.org/stable/auto_examples/tree/plot_tree_regression.html#sphx-glr-auto-examples-tree-plot-tree-regression-py\n",
        "\n",
        "# Tasks:\n",
        "# 1. Create four decision tree regressor models, use max_depth size = 1,2,5,100\n",
        "# 2. Fit model. You will have 4 different models for different depth sizes\n",
        "# 3. Calculate the mean squared error of each model's prediction\n",
        "# 4. Find the best max_depth\n",
        "\n",
        "from sklearn.tree import DecisionTreeRegressor\n",
        "from sklearn.metrics import mean_squared_error\n",
        "\n",
        "#create decision tree regressor\n",
        "regr_1 = DecisionTreeRegressor(max_depth = 1)\n",
        "regr_2 = DecisionTreeRegressor(max_depth = 2)\n",
        "regr_3 = DecisionTreeRegressor(max_depth = 5)\n",
        "regr_4 = DecisionTreeRegressor(max_depth = 100)\n",
        "\n",
        "#fit regression model\n",
        "regr_1.fit(regXtrain, regYtrain)\n",
        "regr_2.fit(regXtrain, regYtrain)\n",
        "regr_3.fit(regXtrain, regYtrain)\n",
        "regr_4.fit(regXtrain, regYtrain)\n",
        "\n",
        "#predict\n",
        "y_1 = regr_1.predict(regXtest)\n",
        "y_2 = regr_2.predict(regXtest)\n",
        "y_3 = regr_3.predict(regXtest)\n",
        "y_4 = regr_4.predict(regXtest)\n",
        "\n",
        "#calculate mean_squared_error\n",
        "print(mean_squared_error(regYtest, y_1))\n",
        "print(mean_squared_error(regYtest, y_2))\n",
        "print(mean_squared_error(regYtest, y_3))\n",
        "print(mean_squared_error(regYtest, y_4))"
      ],
      "execution_count": 26,
      "outputs": [
        {
          "output_type": "stream",
          "text": [
            "5089.810048645411\n",
            "4508.933626581354\n",
            "5570.059454746629\n",
            "6780.393258426966\n"
          ],
          "name": "stdout"
        }
      ]
    },
    {
      "cell_type": "code",
      "metadata": {
        "id": "bm9RzQkr-RTQ",
        "colab": {
          "base_uri": "https://localhost:8080/",
          "height": 312
        },
        "outputId": "0f2ee497-7caf-4497-9f6a-e6460da2ca63"
      },
      "source": [
        "#Plot the best regression model prediction scatter points \n",
        "plt.scatter(y_2, \n",
        "            regYtest, \n",
        "            label = 'medv')\n",
        "\n",
        "plt.plot([0, 1], \n",
        "         [0, 1], \n",
        "         '--k', \n",
        "         transform = plt.gca().transAxes)\n",
        "\n",
        "plt.xlabel('y_2')\n",
        "plt.ylabel('y_test')"
      ],
      "execution_count": 27,
      "outputs": [
        {
          "output_type": "execute_result",
          "data": {
            "text/plain": [
              "Text(0, 0.5, 'y_test')"
            ]
          },
          "metadata": {
            "tags": []
          },
          "execution_count": 27
        },
        {
          "output_type": "display_data",
          "data": {
            "image/png": "[encoded data removed]",
            "text/plain": [
              "<Figure size 432x288 with 1 Axes>"
            ]
          },
          "metadata": {
            "tags": [],
            "needs_background": "light"
          }
        }
      ]
    },
    {
      "cell_type": "code",
      "metadata": {
        "id": "ngYtdlwZy7By",
        "colab": {
          "base_uri": "https://localhost:8080/"
        },
        "outputId": "a5381d7c-b9c0-4815-c459-12b0a5d7550f"
      },
      "source": [
        "# Finally pick the best max_depth you got\n",
        "# Use this max_depth, and use cross_val_score and fit your model with k = 10 fold size\n",
        "# Calculate average scores in kfold\n",
        "'''\n",
        "Best max_depth = 2\n",
        "\n",
        "'''\n",
        "\n",
        "from sklearn.model_selection import KFold, cross_val_score\n",
        "\n",
        "kfold = KFold(n_splits=10)\n",
        "scores = cross_val_score(regr_4, regXtest, regYtest, cv=kfold)\n",
        "print(\"Cross-validation scores: {}\".format(scores))\n",
        "print(\"Average cross-validation score: {:.2f}\".format(scores.mean()))"
      ],
      "execution_count": 28,
      "outputs": [
        {
          "output_type": "stream",
          "text": [
            "Cross-validation scores: [-0.7483586   0.09152145 -0.09560757 -0.23203162 -1.02122074  0.31284146\n",
            " -0.45044058  0.78798551  0.07728524  0.25017444]\n",
            "Average cross-validation score: -0.10\n"
          ],
          "name": "stdout"
        }
      ]
    },
    {
      "cell_type": "code",
      "metadata": {
        "id": "kvJohMtn4-D1",
        "colab": {
          "base_uri": "https://localhost:8080/",
          "height": 380
        },
        "outputId": "e0662413-107b-4b18-af45-311c1f624503"
      },
      "source": [
        "#Refer to class example code \n",
        "#Plot the decision tree with max_depth = 2\n",
        "\n",
        "import graphviz\n",
        "from sklearn.tree import export_graphviz\n",
        "export_graphviz(regr_2, out_file = \"regr_2.dot\", feature_names = diabetes.feature_names)\n",
        "\n",
        "with open(\"regr_2.dot\") as f:\n",
        "  reg2_graph = f.read()\n",
        "graphviz.Source(reg2_graph)"
      ],
      "execution_count": 29,
      "outputs": [
        {
          "output_type": "execute_result",
          "data": {
            "text/plain": [
              "<graphviz.files.Source at 0x7f033d211b10>"
            ],
            "image/svg+xml": "<?xml version=\"1.0\" encoding=\"UTF-8\" standalone=\"no\"?>\n<!DOCTYPE svg PUBLIC \"-//W3C//DTD SVG 1.1//EN\"\n \"http://www.w3.org/Graphics/SVG/1.1/DTD/svg11.dtd\">\n<!-- Generated by graphviz version 2.40.1 (20161225.0304)\n -->\n<!-- Title: Tree Pages: 1 -->\n<svg width=\"502pt\" height=\"269pt\"\n viewBox=\"0.00 0.00 501.50 269.00\" xmlns=\"http://www.w3.org/2000/svg\" xmlns:xlink=\"http://www.w3.org/1999/xlink\">\n<g id=\"graph0\" class=\"graph\" transform=\"scale(1 1) rotate(0) translate(4 265)\">\n<title>Tree</title>\n<polygon fill=\"#ffffff\" stroke=\"transparent\" points=\"-4,4 -4,-265 497.5,-265 497.5,4 -4,4\"/>\n<!-- 0 -->\n<g id=\"node1\" class=\"node\">\n<title>0</title>\n<polygon fill=\"none\" stroke=\"#000000\" points=\"298.5,-261 187.5,-261 187.5,-193 298.5,-193 298.5,-261\"/>\n<text text-anchor=\"middle\" x=\"243\" y=\"-245.8\" font-family=\"Times,serif\" font-size=\"14.00\" fill=\"#000000\">bmi &lt;= 0.005</text>\n<text text-anchor=\"middle\" x=\"243\" y=\"-230.8\" font-family=\"Times,serif\" font-size=\"14.00\" fill=\"#000000\">mse = 5760.796</text>\n<text text-anchor=\"middle\" x=\"243\" y=\"-215.8\" font-family=\"Times,serif\" font-size=\"14.00\" fill=\"#000000\">samples = 353</text>\n<text text-anchor=\"middle\" x=\"243\" y=\"-200.8\" font-family=\"Times,serif\" font-size=\"14.00\" fill=\"#000000\">value = 150.15</text>\n</g>\n<!-- 1 -->\n<g id=\"node2\" class=\"node\">\n<title>1</title>\n<polygon fill=\"none\" stroke=\"#000000\" points=\"233.5,-157 122.5,-157 122.5,-89 233.5,-89 233.5,-157\"/>\n<text text-anchor=\"middle\" x=\"178\" y=\"-141.8\" font-family=\"Times,serif\" font-size=\"14.00\" fill=\"#000000\">s5 &lt;= 0.007</text>\n<text text-anchor=\"middle\" x=\"178\" y=\"-126.8\" font-family=\"Times,serif\" font-size=\"14.00\" fill=\"#000000\">mse = 3543.283</text>\n<text text-anchor=\"middle\" x=\"178\" y=\"-111.8\" font-family=\"Times,serif\" font-size=\"14.00\" fill=\"#000000\">samples = 220</text>\n<text text-anchor=\"middle\" x=\"178\" y=\"-96.8\" font-family=\"Times,serif\" font-size=\"14.00\" fill=\"#000000\">value = 118.441</text>\n</g>\n<!-- 0&#45;&gt;1 -->\n<g id=\"edge1\" class=\"edge\">\n<title>0&#45;&gt;1</title>\n<path fill=\"none\" stroke=\"#000000\" d=\"M221.7166,-192.9465C216.2733,-184.2373 210.3516,-174.7626 204.675,-165.6801\"/>\n<polygon fill=\"#000000\" stroke=\"#000000\" points=\"207.5993,-163.755 199.3312,-157.13 201.6633,-167.465 207.5993,-163.755\"/>\n<text text-anchor=\"middle\" x=\"193.7098\" y=\"-177.7898\" font-family=\"Times,serif\" font-size=\"14.00\" fill=\"#000000\">True</text>\n</g>\n<!-- 4 -->\n<g id=\"node5\" class=\"node\">\n<title>4</title>\n<polygon fill=\"none\" stroke=\"#000000\" points=\"364,-157 252,-157 252,-89 364,-89 364,-157\"/>\n<text text-anchor=\"middle\" x=\"308\" y=\"-141.8\" font-family=\"Times,serif\" font-size=\"14.00\" fill=\"#000000\">bp &lt;= 0.027</text>\n<text text-anchor=\"middle\" x=\"308\" y=\"-126.8\" font-family=\"Times,serif\" font-size=\"14.00\" fill=\"#000000\">mse = 5014.525</text>\n<text text-anchor=\"middle\" x=\"308\" y=\"-111.8\" font-family=\"Times,serif\" font-size=\"14.00\" fill=\"#000000\">samples = 133</text>\n<text text-anchor=\"middle\" x=\"308\" y=\"-96.8\" font-family=\"Times,serif\" font-size=\"14.00\" fill=\"#000000\">value = 202.602</text>\n</g>\n<!-- 0&#45;&gt;4 -->\n<g id=\"edge4\" class=\"edge\">\n<title>0&#45;&gt;4</title>\n<path fill=\"none\" stroke=\"#000000\" d=\"M264.2834,-192.9465C269.7267,-184.2373 275.6484,-174.7626 281.325,-165.6801\"/>\n<polygon fill=\"#000000\" stroke=\"#000000\" points=\"284.3367,-167.465 286.6688,-157.13 278.4007,-163.755 284.3367,-167.465\"/>\n<text text-anchor=\"middle\" x=\"292.2902\" y=\"-177.7898\" font-family=\"Times,serif\" font-size=\"14.00\" fill=\"#000000\">False</text>\n</g>\n<!-- 2 -->\n<g id=\"node3\" class=\"node\">\n<title>2</title>\n<polygon fill=\"none\" stroke=\"#000000\" points=\"104,-53 0,-53 0,0 104,0 104,-53\"/>\n<text text-anchor=\"middle\" x=\"52\" y=\"-37.8\" font-family=\"Times,serif\" font-size=\"14.00\" fill=\"#000000\">mse = 2190.02</text>\n<text text-anchor=\"middle\" x=\"52\" y=\"-22.8\" font-family=\"Times,serif\" font-size=\"14.00\" fill=\"#000000\">samples = 155</text>\n<text text-anchor=\"middle\" x=\"52\" y=\"-7.8\" font-family=\"Times,serif\" font-size=\"14.00\" fill=\"#000000\">value = 98.774</text>\n</g>\n<!-- 1&#45;&gt;2 -->\n<g id=\"edge2\" class=\"edge\">\n<title>1&#45;&gt;2</title>\n<path fill=\"none\" stroke=\"#000000\" d=\"M133.5771,-88.9777C121.023,-79.3629 107.3881,-68.9203 94.924,-59.3743\"/>\n<polygon fill=\"#000000\" stroke=\"#000000\" points=\"96.9927,-56.5502 86.9255,-53.2485 92.7365,-62.1076 96.9927,-56.5502\"/>\n</g>\n<!-- 3 -->\n<g id=\"node4\" class=\"node\">\n<title>3</title>\n<polygon fill=\"none\" stroke=\"#000000\" points=\"234,-53 122,-53 122,0 234,0 234,-53\"/>\n<text text-anchor=\"middle\" x=\"178\" y=\"-37.8\" font-family=\"Times,serif\" font-size=\"14.00\" fill=\"#000000\">mse = 3648.593</text>\n<text text-anchor=\"middle\" x=\"178\" y=\"-22.8\" font-family=\"Times,serif\" font-size=\"14.00\" fill=\"#000000\">samples = 65</text>\n<text text-anchor=\"middle\" x=\"178\" y=\"-7.8\" font-family=\"Times,serif\" font-size=\"14.00\" fill=\"#000000\">value = 165.338</text>\n</g>\n<!-- 1&#45;&gt;3 -->\n<g id=\"edge3\" class=\"edge\">\n<title>1&#45;&gt;3</title>\n<path fill=\"none\" stroke=\"#000000\" d=\"M178,-88.9777C178,-80.7364 178,-71.887 178,-63.5153\"/>\n<polygon fill=\"#000000\" stroke=\"#000000\" points=\"181.5001,-63.2484 178,-53.2485 174.5001,-63.2485 181.5001,-63.2484\"/>\n</g>\n<!-- 5 -->\n<g id=\"node6\" class=\"node\">\n<title>5</title>\n<polygon fill=\"none\" stroke=\"#000000\" points=\"364,-53 252,-53 252,0 364,0 364,-53\"/>\n<text text-anchor=\"middle\" x=\"308\" y=\"-37.8\" font-family=\"Times,serif\" font-size=\"14.00\" fill=\"#000000\">mse = 4975.402</text>\n<text text-anchor=\"middle\" x=\"308\" y=\"-22.8\" font-family=\"Times,serif\" font-size=\"14.00\" fill=\"#000000\">samples = 67</text>\n<text text-anchor=\"middle\" x=\"308\" y=\"-7.8\" font-family=\"Times,serif\" font-size=\"14.00\" fill=\"#000000\">value = 175.612</text>\n</g>\n<!-- 4&#45;&gt;5 -->\n<g id=\"edge5\" class=\"edge\">\n<title>4&#45;&gt;5</title>\n<path fill=\"none\" stroke=\"#000000\" d=\"M308,-88.9777C308,-80.7364 308,-71.887 308,-63.5153\"/>\n<polygon fill=\"#000000\" stroke=\"#000000\" points=\"311.5001,-63.2484 308,-53.2485 304.5001,-63.2485 311.5001,-63.2484\"/>\n</g>\n<!-- 6 -->\n<g id=\"node7\" class=\"node\">\n<title>6</title>\n<polygon fill=\"none\" stroke=\"#000000\" points=\"493.5,-53 382.5,-53 382.5,0 493.5,0 493.5,-53\"/>\n<text text-anchor=\"middle\" x=\"438\" y=\"-37.8\" font-family=\"Times,serif\" font-size=\"14.00\" fill=\"#000000\">mse = 3564.091</text>\n<text text-anchor=\"middle\" x=\"438\" y=\"-22.8\" font-family=\"Times,serif\" font-size=\"14.00\" fill=\"#000000\">samples = 66</text>\n<text text-anchor=\"middle\" x=\"438\" y=\"-7.8\" font-family=\"Times,serif\" font-size=\"14.00\" fill=\"#000000\">value = 230.0</text>\n</g>\n<!-- 4&#45;&gt;6 -->\n<g id=\"edge6\" class=\"edge\">\n<title>4&#45;&gt;6</title>\n<path fill=\"none\" stroke=\"#000000\" d=\"M353.8331,-88.9777C366.7857,-79.3629 380.8535,-68.9203 393.7133,-59.3743\"/>\n<polygon fill=\"#000000\" stroke=\"#000000\" points=\"396.0224,-62.0193 401.9658,-53.2485 391.8501,-56.3986 396.0224,-62.0193\"/>\n</g>\n</g>\n</svg>\n"
          },
          "metadata": {
            "tags": []
          },
          "execution_count": 29
        }
      ]
    },
    {
      "cell_type": "code",
      "metadata": {
        "id": "syQrmSmo5_QF",
        "colab": {
          "base_uri": "https://localhost:8080/",
          "height": 35
        },
        "outputId": "4b72fad4-52ad-4721-d148-4d7940f5c015"
      },
      "source": [
        "# Answer the questions: \n",
        "\n",
        "'''\n",
        "1. What is the most important indicator that indicate diabetes?\n",
        "'''\n",
        "\n",
        "'''\n",
        "Your answer goes here: \n",
        "Body Mass Index is the most important indicator of Diabetes\n",
        "\n",
        "\n",
        "'''"
      ],
      "execution_count": 30,
      "outputs": [
        {
          "output_type": "execute_result",
          "data": {
            "application/vnd.google.colaboratory.intrinsic+json": {
              "type": "string"
            },
            "text/plain": [
              "'\\nYour answer goes here: Body Mass Index is the most important indicator of Diabetes\\n\\n\\n'"
            ]
          },
          "metadata": {
            "tags": []
          },
          "execution_count": 30
        }
      ]
    },
    {
      "cell_type": "markdown",
      "metadata": {
        "id": "vdxWfuuyY1Dq"
      },
      "source": [
        "### 4. Decision Tree with Bagging \n",
        "---\n",
        "\n",
        "\n",
        "\n",
        "---"
      ]
    },
    {
      "cell_type": "markdown",
      "metadata": {
        "id": "yxz6aKA462cJ"
      },
      "source": [
        "***EXERCISE NO. 4.1 | Score :10***"
      ]
    },
    {
      "cell_type": "code",
      "metadata": {
        "id": "4k5vN-ME7MWr",
        "colab": {
          "base_uri": "https://localhost:8080/"
        },
        "outputId": "eb083d03-c31a-4787-c347-6469d2507bed"
      },
      "source": [
        "# https://scikit-learn.org/stable/modules/generated/sklearn.ensemble.BaggingRegressor.html\n",
        "\n",
        "from sklearn.ensemble import BaggingRegressor\n",
        "\n",
        "# Use BaggingRegressor to fit the training data\n",
        "# Calculate the mean squared error \n",
        "\n",
        "#load BaggingRegressor model and pass n_estimators=20, random_state=1\n",
        "bagged_regr = BaggingRegressor(base_estimator = DecisionTreeRegressor(), \n",
        "                               n_estimators = 20, random_state = 1)\n",
        "bagged_regr.fit(regXtrain, regYtrain)\n",
        "pred = bagged_regr.predict(regXtest)\n",
        "mean_squared_error(regYtest, pred)"
      ],
      "execution_count": 32,
      "outputs": [
        {
          "output_type": "execute_result",
          "data": {
            "text/plain": [
              "3980.019606741573"
            ]
          },
          "metadata": {
            "tags": []
          },
          "execution_count": 32
        }
      ]
    },
    {
      "cell_type": "code",
      "metadata": {
        "id": "1LlLTlGv97Fn",
        "colab": {
          "base_uri": "https://localhost:8080/",
          "height": 312
        },
        "outputId": "d3159fcf-3d18-4346-94c6-6578a9908800"
      },
      "source": [
        "#Plot the best regression model prediction scatter points \n",
        "plt.scatter(pred, \n",
        "            regYtest, \n",
        "            label = 'medv')\n",
        "\n",
        "plt.plot([0, 1], \n",
        "         [0, 1], \n",
        "         '--k', \n",
        "         transform = plt.gca().transAxes)\n",
        "\n",
        "plt.xlabel('pred')\n",
        "plt.ylabel('y_test')"
      ],
      "execution_count": 33,
      "outputs": [
        {
          "output_type": "execute_result",
          "data": {
            "text/plain": [
              "Text(0, 0.5, 'y_test')"
            ]
          },
          "metadata": {
            "tags": []
          },
          "execution_count": 33
        },
        {
          "output_type": "display_data",
          "data": {
            "image/png": "[encoded data removed]",
            "text/plain": [
              "<Figure size 432x288 with 1 Axes>"
            ]
          },
          "metadata": {
            "tags": [],
            "needs_background": "light"
          }
        }
      ]
    },
    {
      "cell_type": "code",
      "metadata": {
        "id": "CFLIsYwCIagu"
      },
      "source": [
        "# Answer the following questions: \n",
        "'''\n",
        "1. Does Begging improve the MSE(mean squared error) from a single decision tree with best max_depth, and why? \n",
        "2. Comparing to the single decision tree scatter plot, what do you observed from the begging decision trees scatter plot?  \n",
        "'''\n",
        "\n",
        "'''\n",
        "Your answer goes here: \n",
        "1. Yes, the MSE is lower with Bagging because the dataset is now able to fit better within the model by averaging the predictions of the training set \n",
        "2. The predictions are more accurate than without bagging the dataset \n",
        "\n",
        "\n",
        "'''"
      ],
      "execution_count": null,
      "outputs": []
    },
    {
      "cell_type": "markdown",
      "metadata": {
        "id": "xzh2bdcQY1F9"
      },
      "source": [
        "### 5. Random Forest \n",
        "---\n",
        "\n",
        "\n",
        "\n",
        "---"
      ]
    },
    {
      "cell_type": "markdown",
      "metadata": {
        "id": "_bZA30g2EnLG"
      },
      "source": [
        "***EXERCISE NO. 5.1 | Score :10***"
      ]
    },
    {
      "cell_type": "code",
      "metadata": {
        "id": "e07em325-uPg",
        "colab": {
          "base_uri": "https://localhost:8080/"
        },
        "outputId": "47c0fabc-63cc-41d0-9b5a-5ea90ba46b22"
      },
      "source": [
        "# https://scikit-learn.org/stable/modules/generated/sklearn.ensemble.RandomForestRegressor.html\n",
        "\n",
        "from sklearn.ensemble import RandomForestRegressor\n",
        "\n",
        "# Use RandomForestRegressor to fit the training data\n",
        "# Calculate the mean squared error \n",
        "\n",
        "# load RandomForestRegressor model and pass max_features=6, n_estimater=20, random_state=1\n",
        "random_forest_regr = RandomForestRegressor(max_features = 6, n_estimators = 20, \n",
        "                                           random_state = 1)\n",
        "random_forest_regr.fit(regXtrain, regYtrain)\n",
        "pred = random_forest_regr.predict(regXtest)\n",
        "\n",
        "mean_squared_error(regYtest, pred)"
      ],
      "execution_count": 35,
      "outputs": [
        {
          "output_type": "execute_result",
          "data": {
            "text/plain": [
              "3291.242078651685"
            ]
          },
          "metadata": {
            "tags": []
          },
          "execution_count": 35
        }
      ]
    },
    {
      "cell_type": "code",
      "metadata": {
        "id": "7eaECscY_TXX",
        "colab": {
          "base_uri": "https://localhost:8080/",
          "height": 295
        },
        "outputId": "aaeba62c-70f1-4265-b42c-3f0594c97e17"
      },
      "source": [
        "# Plot the importance rank of each feature in the diabeties dataset \n",
        "import pandas as pd\n",
        "Importance = pd.DataFrame({'Importance':random_forest_regr.feature_importances_*100}, \n",
        "                          index = diabetes.feature_names)\n",
        "\n",
        "Importance.sort_values(by = 'Importance', \n",
        "                       axis = 0, \n",
        "                       ascending = True).plot(kind = 'barh', \n",
        "                                              color = 'r', )\n",
        "\n",
        "plt.xlabel('Variable Importance')\n",
        "plt.gca().legend_ = None"
      ],
      "execution_count": 36,
      "outputs": [
        {
          "output_type": "display_data",
          "data": {
            "image/png": "[encoded data removed]",
            "text/plain": [
              "<Figure size 432x288 with 1 Axes>"
            ]
          },
          "metadata": {
            "tags": [],
            "needs_background": "light"
          }
        }
      ]
    },
    {
      "cell_type": "code",
      "metadata": {
        "id": "bDKV8KXYLGv_"
      },
      "source": [
        "#Answer the following questions: \n",
        "'''\n",
        "1. Does Random Forest improve the MSE(mean squared error) from a single decision tree with best max_depth and Bagging, and why? \n",
        "2. What is the most important indicator that indicate diabetes?\n",
        "'''\n",
        "\n",
        "'''\n",
        "Your answer goes here: \n",
        "1. Yes, because the variance is reduced in the dataset \n",
        "2. s5 \n",
        "\n",
        "'''"
      ],
      "execution_count": null,
      "outputs": []
    },
    {
      "cell_type": "markdown",
      "metadata": {
        "id": "7TgLnUJGY1Ih"
      },
      "source": [
        "### 6. Boosting \n",
        "---\n",
        "\n",
        "\n",
        "\n",
        "---"
      ]
    },
    {
      "cell_type": "markdown",
      "metadata": {
        "id": "flXysNmAEqeP"
      },
      "source": [
        "***EXERCISE NO. 6.1 | Score :10***"
      ]
    },
    {
      "cell_type": "code",
      "metadata": {
        "id": "UzZFM0tH_s7J",
        "colab": {
          "base_uri": "https://localhost:8080/"
        },
        "outputId": "957d76bc-1818-419a-fc18-0e82a3add5dc"
      },
      "source": [
        "# https://scikit-learn.org/stable/modules/generated/sklearn.ensemble.GradientBoostingRegressor.html\n",
        "from sklearn.ensemble import GradientBoostingRegressor\n",
        "\n",
        "# Use GradientBoostingRegressor to fit the training data\n",
        "# Calculate the mean squared error \n",
        "\n",
        "# load GradientBoostingRegressor model and pass n_estimators = 500, learning_rate = 0.01, max_depth = 2, random_state = 1\n",
        "boosted_regr = GradientBoostingRegressor(n_estimators = 500, learning_rate = 0.01, \n",
        "                                         max_depth = 2, random_state = 1)\n",
        "boosted_regr.fit(regXtrain, regYtrain)\n",
        "pred = boosted_regr.predict(regXtest)\n",
        "\n",
        "mean_squared_error(regYtest, pred)"
      ],
      "execution_count": 37,
      "outputs": [
        {
          "output_type": "execute_result",
          "data": {
            "text/plain": [
              "3273.329671545582"
            ]
          },
          "metadata": {
            "tags": []
          },
          "execution_count": 37
        }
      ]
    },
    {
      "cell_type": "code",
      "metadata": {
        "id": "O8lnzWrd_tOe",
        "colab": {
          "base_uri": "https://localhost:8080/",
          "height": 295
        },
        "outputId": "cc8c4687-10aa-481c-f9a2-3ce189248bb0"
      },
      "source": [
        "feature_importance = boosted_regr.feature_importances_*100\n",
        "\n",
        "rel_imp = pd.Series(feature_importance, \n",
        "                    index = diabetes.feature_names).sort_values(inplace = False)\n",
        "\n",
        "rel_imp.T.plot(kind = 'barh', \n",
        "               color = 'r', )\n",
        "\n",
        "plt.xlabel('Variable Importance')\n",
        "\n",
        "plt.gca().legend_ = None"
      ],
      "execution_count": 38,
      "outputs": [
        {
          "output_type": "display_data",
          "data": {
            "image/png": "[encoded data removed]",
            "text/plain": [
              "<Figure size 432x288 with 1 Axes>"
            ]
          },
          "metadata": {
            "tags": [],
            "needs_background": "light"
          }
        }
      ]
    },
    {
      "cell_type": "code",
      "metadata": {
        "id": "3mS2j6CCAGpm"
      },
      "source": [
        "#Answer the following questions: \n",
        "'''\n",
        "1. Does Boosting improve the MSE(mean squared error) from a single decision tree with best max_depth, Bagging, and Random Forest, and why? \n",
        "2. What is the most important indicator that indicate diabetes?\n",
        "'''\n",
        "\n",
        "'''\n",
        "Your answer goes here: \n",
        "1. Slightly, it reduces bias compated to the Random Forest\n",
        "2. BMI\n",
        "\n",
        "'''"
      ],
      "execution_count": null,
      "outputs": []
    }
  ]
}